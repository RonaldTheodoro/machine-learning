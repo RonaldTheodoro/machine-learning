{
 "cells": [
  {
   "cell_type": "markdown",
   "metadata": {},
   "source": [
    "# Robo\n",
    "A matriz vai de 0x0 a 10x10"
   ]
  },
  {
   "cell_type": "code",
   "execution_count": 2,
   "metadata": {
    "collapsed": true
   },
   "outputs": [],
   "source": [
    "import random"
   ]
  },
  {
   "cell_type": "code",
   "execution_count": 3,
   "metadata": {},
   "outputs": [],
   "source": [
    "class Point:\n",
    "    \n",
    "    def __init__(self, x, y):\n",
    "        self.x = x\n",
    "        self.y = y\n",
    "    \n",
    "    def __str__(self):\n",
    "        return 'Point(x={}, y={})'.format(self.x, self.y)\n",
    "\n",
    "    def __repr__(self):\n",
    "        return 'Point(x={}, y={})'.format(self.x, self.y)\n",
    "\n",
    "\n",
    "class Reward(Point):\n",
    "    \n",
    "    def __init__(self, x, y, name):\n",
    "        super(Reward, self).__init__(x, y)\n",
    "        self.name = name\n",
    "    \n",
    "    def __str__(self):\n",
    "        return 'Reward(x={}, y={}, name={})'.format(self.x, self.y, self.name)\n",
    "\n",
    "    def __repr__(self):\n",
    "        return 'Reward(x={}, y={}, name={})'.format(self.x, self.y, self.name)\n",
    "\n",
    "    \n",
    "class Robot(Point):\n",
    "        \n",
    "    def move_up(self):\n",
    "        if self.y < 10:\n",
    "            self.y += 1\n",
    "        else:\n",
    "            print('Movimento proibido')\n",
    "    \n",
    "    def move_down(self):\n",
    "        if self.y > 0:\n",
    "            self.y -= 1\n",
    "        else:\n",
    "            print('Movimento proibido')\n",
    "    \n",
    "    def move_left(self):\n",
    "        if self.x > 0:\n",
    "            self.x -= 1\n",
    "        else:\n",
    "            print('Movimento proibido')\n",
    "    \n",
    "    def move_right(self):\n",
    "        if self.x < 10:\n",
    "            self.x += 1\n",
    "        else:\n",
    "            print('Movimento proibido')\n",
    "        "
   ]
  },
  {
   "cell_type": "code",
   "execution_count": 4,
   "metadata": {
    "collapsed": true
   },
   "outputs": [],
   "source": [
    "def check_reward(robot, rewards):\n",
    "    for reward in rewards:\n",
    "        if reward.x == robot.x and reward.y == robot.y:\n",
    "            print(\"O robo achou a recompensa: \", reward.name)\n",
    "            return True\n",
    "    return False\n",
    "        "
   ]
  },
  {
   "cell_type": "code",
   "execution_count": 5,
   "metadata": {
    "collapsed": true
   },
   "outputs": [],
   "source": [
    "rewards = [\n",
    "    Reward(random.randint(0, 10), random.randint(0, 10), 'moeda'),\n",
    "    Reward(random.randint(0, 10), random.randint(0, 10), 'gasolina'),\n",
    "    Reward(random.randint(0, 10), random.randint(0, 10), 'arma'),\n",
    "    Reward(random.randint(0, 10), random.randint(0, 10), 'moeda'),\n",
    "    Reward(random.randint(0, 10), random.randint(0, 10), 'gasolina'),\n",
    "    Reward(random.randint(0, 10), random.randint(0, 10), 'arma'),\n",
    "    Reward(random.randint(0, 10), random.randint(0, 10), 'moeda'),\n",
    "    Reward(random.randint(0, 10), random.randint(0, 10), 'gasolina'),\n",
    "    Reward(random.randint(0, 10), random.randint(0, 10), 'arma'),\n",
    "]"
   ]
  },
  {
   "cell_type": "code",
   "execution_count": 6,
   "metadata": {
    "collapsed": true
   },
   "outputs": [],
   "source": [
    "robot = Robot(random.randint(0, 10), random.randint(0, 10))"
   ]
  },
  {
   "cell_type": "code",
   "execution_count": 9,
   "metadata": {},
   "outputs": [
    {
     "name": "stdout",
     "output_type": "stream",
     "text": [
      "Digite up, down, left ou right para o movimento: up\n",
      "Point(x=2, y=4)\n"
     ]
    },
    {
     "data": {
      "text/plain": [
       "[Reward(x=6, y=8, name=moeda),\n",
       " Reward(x=1, y=10, name=gasolina),\n",
       " Reward(x=3, y=8, name=arma),\n",
       " Reward(x=4, y=4, name=moeda),\n",
       " Reward(x=8, y=4, name=gasolina),\n",
       " Reward(x=4, y=4, name=arma),\n",
       " Reward(x=7, y=3, name=moeda),\n",
       " Reward(x=0, y=10, name=gasolina),\n",
       " Reward(x=10, y=10, name=arma)]"
      ]
     },
     "execution_count": 9,
     "metadata": {},
     "output_type": "execute_result"
    }
   ],
   "source": [
    "for i in range(10\n",
    "              ):\n",
    "    move = input(\"Digite up, down, left ou right para o movimento: \")\n",
    "    \n",
    "    if move == 'up':\n",
    "        robot.move_up()\n",
    "    elif move == 'down':\n",
    "        robot.move_down()\n",
    "    elif move == 'left':\n",
    "        robot.move_left()\n",
    "    elif move == 'right':\n",
    "        robot.move_right()\n",
    "    else:\n",
    "        print('Opção invalida')\n",
    "        continue\n",
    "        \n",
    "    print(robot)\n",
    "    check_reward(robot, rewards)\n",
    "    \n",
    "rewards"
   ]
  },
  {
   "cell_type": "code",
   "execution_count": null,
   "metadata": {
    "collapsed": true
   },
   "outputs": [],
   "source": []
  },
  {
   "cell_type": "code",
   "execution_count": null,
   "metadata": {
    "collapsed": true
   },
   "outputs": [],
   "source": []
  },
  {
   "cell_type": "code",
   "execution_count": null,
   "metadata": {
    "collapsed": true
   },
   "outputs": [],
   "source": []
  },
  {
   "cell_type": "code",
   "execution_count": null,
   "metadata": {
    "collapsed": true
   },
   "outputs": [],
   "source": []
  },
  {
   "cell_type": "code",
   "execution_count": null,
   "metadata": {
    "collapsed": true
   },
   "outputs": [],
   "source": []
  }
 ],
 "metadata": {
  "kernelspec": {
   "display_name": "Python 3",
   "language": "python",
   "name": "python3"
  },
  "language_info": {
   "codemirror_mode": {
    "name": "ipython",
    "version": 3
   },
   "file_extension": ".py",
   "mimetype": "text/x-python",
   "name": "python",
   "nbconvert_exporter": "python",
   "pygments_lexer": "ipython3",
   "version": "3.6.0"
  }
 },
 "nbformat": 4,
 "nbformat_minor": 2
}
